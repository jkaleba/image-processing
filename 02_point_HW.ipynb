{
 "cells": [
  {
   "cell_type": "markdown",
   "source": [
    "# Zadanie domowe\n",
    "\n",
    "W przypadku obrazów w odcieniach szarości pojedynczy piksel z zakresu [0; 255] reprezentowany jest jako 8-bitowa liczba bez znaku.\n",
    "Pewnym rozszerzeniem analizy sposobu reprezentacji obrazu może być następujący eksperyment.\n",
    "Załóżmy, że z każdego z 8 bitów możemy stworzyć pojedynczy obraz binarny (ang. _bit-plane slicing_).\n",
    "Dla obrazka _100zloty.jpg_ (https://raw.githubusercontent.com/vision-agh/poc_sw/master/02_Point/100zloty.jpg) stwórz 8 obrazów, z których każdy powinien zawierać jedną płaszczyznę bitową.\n",
    "Podpowiedź $-$ warto sprawdzić, jak realizuje się bitowe operacje logiczne.\n",
    "Zastosowanie takiej dekompozycji obrazu pozwala na analizę ,,ważności'' poszczególnych bitów.\n",
    "Jest to użyteczne w kwantyzacji, ale także w kompresji.\n",
    "\n",
    "W drugim etapie zadania proszę spróbować odtworzyć obraz oryginalny z mniejszej liczby obrazów binarnych.\n",
    "Warto zacząć od dwóch najbardziej znaczących bitów, a później dodawać kolejne.\n",
    "Należy utworzyć co najmniej trzy wersje zrekonstruowanych obrazów.\n",
    "Podpowiedź $-$ rekonstrukcja obrazu to mnożenie przez odpowiednią potęgę liczby 2 (przesunięcie bitowe) oraz dodawanie."
   ],
   "metadata": {
    "collapsed": false,
    "id": "m5Q2hnDC3NuL"
   }
  },
  {
   "cell_type": "code",
   "source": [
    "import cv2\n",
    "import os\n",
    "\n",
    "import numpy as np\n",
    "import requests\n",
    "import matplotlib.pyplot as plt\n",
    "\n",
    "url = 'https://raw.githubusercontent.com/vision-agh/poc_sw/master/02_Point/'\n",
    "fileName = '100zloty.jpg'\n",
    "if not os.path.exists(fileName) :\n",
    "    r = requests.get(url + fileName, allow_redirects=True)\n",
    "    open(fileName, 'wb').write(r.content)"
   ],
   "metadata": {
    "id": "tsKtFztv4T2l"
   },
   "execution_count": null,
   "outputs": []
  },
  {
   "cell_type": "code",
   "outputs": [],
   "source": [
    "img = cv2.imread(fileName, cv2.IMREAD_COLOR)\n",
    "\n",
    "plt.imshow(img)\n",
    "plt.axis('off')\n",
    "plt.show()\n",
    "\n",
    "img_gray = cv2.cvtColor(img, cv2.COLOR_BGR2GRAY)\n",
    "plt.imshow(img_gray, 'gray')\n",
    "plt.axis('off')\n",
    "plt.show()"
   ],
   "metadata": {
    "collapsed": false
   },
   "execution_count": null
  },
  {
   "cell_type": "code",
   "outputs": [],
   "source": [
    "def extract_bit_planes(image):\n",
    "    bit_planes = []\n",
    "    for i in range(8):\n",
    "        bit_plane = (image & (1 << i)) >> i\n",
    "        bit_planes.append(bit_plane * 255) \n",
    "    return bit_planes\n",
    "\n",
    "\n",
    "bit_planes = extract_bit_planes(img)"
   ],
   "metadata": {
    "collapsed": false
   },
   "execution_count": null
  },
  {
   "cell_type": "code",
   "outputs": [],
   "source": [
    "for plane in bit_planes:\n",
    "    plt.imshow(plane)\n",
    "    plt.axis('off')\n",
    "    plt.show()"
   ],
   "metadata": {
    "collapsed": false
   },
   "execution_count": null
  },
  {
   "cell_type": "code",
   "outputs": [],
   "source": [
    "\n",
    "two_planes = [bit_planes[6], bit_planes[7]]\n",
    "\n",
    "def reconstruct_image_from_bit_planes(bit_planes, num_planes):\n",
    "    \"\"\"\n",
    "    Rekonstruuje obraz z podanej liczby płaszczyzn bitowych.\n",
    "    :param bit_planes: Lista płaszczyzn bitowych.\n",
    "    :param num_planes: Liczba płaszczyzn bitowych do uwzględnienia w rekonstrukcji.\n",
    "    :return: Zrekonstruowany obraz.\n",
    "    \"\"\"\n",
    "    reconstructed_image = np.zeros_like(bit_planes[0], dtype=np.uint8)\n",
    "    for i in range(num_planes):\n",
    "        reconstructed_image += (bit_planes[-(i + 1)] // 255) * (1 << (7 - i))\n",
    "    return reconstructed_image\n",
    "\n",
    "\n",
    "\n",
    "for i in range(1, 8):\n",
    "    reconstructed_image = reconstruct_image_from_bit_planes(bit_planes, i)\n",
    "    plt.imshow(reconstructed_image)\n",
    "    plt.axis('off')\n",
    "    plt.show()\n",
    "\n",
    "\n"
   ],
   "metadata": {
    "collapsed": false
   },
   "execution_count": null
  }
 ],
 "metadata": {
  "kernelspec": {
   "display_name": "Python 3",
   "language": "python",
   "name": "python3"
  },
  "language_info": {
   "codemirror_mode": {
    "name": "ipython",
    "version": 2
   },
   "file_extension": ".py",
   "mimetype": "text/x-python",
   "name": "python",
   "nbconvert_exporter": "python",
   "pygments_lexer": "ipython2",
   "version": "2.7.6"
  },
  "colab": {
   "provenance": []
  }
 },
 "nbformat": 4,
 "nbformat_minor": 0
}
