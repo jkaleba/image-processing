{
  "cells": [
    {
      "cell_type": "markdown",
      "source": [
        "# Binaryzacja\n",
        "\n",
        "### Zadanie domowe - binaryzacja adaptacyjna w oknach z interpolacją.\n",
        "\n",
        "Pokazana w ramach podstawowej części ćwiczenia binaryzacja adaptacyjna działa dobrze, ale jest dość złożona obliczeniowo (choć oczywiście należy mieć świadomość, że implementację można zoptymalizować i wyeliminować pewne powtarzające się obliczenia).\n",
        "Zbliżone rozwiązanie można również realizować w nieco innym wariancie - w oknach.\n",
        "Ogólna idea jest następująca: wejściowy obraz dzielimy na nienachodzące (rozłączne) okna - wygodnie jest założyć, że są one kwadratowe i o rozmiarze będącym potęgą liczby 2.\n",
        "W każdym z okien obliczamy próg - niech to będzie średnia i stosujemy do binaryzacji lokalnej.\n",
        "Jak nietrudno się domyślić efekt nie będzie dobry, gdyż na granicach okien wystąpią artefakty.\n",
        "Aby je wyeliminować należy zastosować interpolację, co zostanie szczegółowo opisane poniżej.\n",
        "Warto zaznaczyć, że podobny mechanizm interpolacji stosowany jest w poznanym wcześniej algorytmie CLAHE.\n",
        "Zainteresowane osoby odsyłam do artykułu na [Wikipedii](https://en.wikipedia.org/wiki/Adaptive_histogram_equalization) oraz do artykułu o metodzie CLAHE - Zuiderveld, Karel. “Contrast Limited Adaptive Histograph Equalization.” Graphic Gems IV. San Diego: Academic Press Professional, 1994. 474–485.\n",
        "\n"
      ],
      "metadata": {
        "collapsed": false,
        "id": "H0nL6XYghXGe"
      }
    },
    {
      "cell_type": "markdown",
      "source": [
        "Na początek zaimplementujemy wariant metody bez interpolacji:\n",
        "1. Wczytaj obraz _rice.png_.\n",
        "2. W dwóch pętlach `for`, dla okien o ustalonym wymiarze $W$ (potęga 2), oblicz średnią:\n",
        "- pętle powinny mieć krok $W$,\n",
        "- wynik (tj. średnie) należy zapisać w pomocniczej tablicy,\n",
        "- przydatny operator to `//` - dzielenie całkowitoliczbowe (*floor division*).\n",
        "\n",
        "3. W kolejnych dwóch pętlach `for` (tym razem o kroku 1) przeprowadź binaryzację z wyznaczonymi progami.\n",
        "   Tu oczywiście należy się sprytnie odwołać do wyników z tablicy pomocniczej.\n",
        "   Wyświetl wyniki - czy jest on poprawny?\n",
        "   Podpowiedź - błędy lepiej widać dla mniejszego rozmiaru okna (np. 16 x 16)."
      ],
      "metadata": {
        "collapsed": false,
        "id": "uiqU57wxhXGh"
      }
    },
    {
      "cell_type": "code",
      "execution_count": null,
      "outputs": [],
      "source": [
        "import cv2\n",
        "import os\n",
        "import requests\n",
        "from matplotlib import pyplot as plt\n",
        "import numpy as np\n",
        "\n",
        "url = 'https://raw.githubusercontent.com/vision-agh/poc_sw/master/04_Thresholding/'\n",
        "\n",
        "fileName = \"rice.png\"\n",
        "if not os.path.exists(fileName):\n",
        "    r = requests.get(url + fileName, allow_redirects=True)\n",
        "    open(fileName, 'wb').write(r.content)"
      ],
      "metadata": {
        "pycharm": {
          "name": "#%%\n"
        },
        "id": "gKZpDdyYhXGi"
      }
    },
    {
      "cell_type": "markdown",
      "source": [
        "4. Rozwiązaniem problemu artefaktów na obrazie jest zastosowanie interpolacji.\n",
        "   Próg binaryzacji dla danego piksela wyliczany jest na podstawie progów z sąsiednich okien.\n",
        "   ![Ilustracja koncepcji interpolacji](https://raw.githubusercontent.com/vision-agh/poc_sw/master/04_Thresholding/clahe_tile_interpolation.png)\n",
        "\n",
        "   Koncepcja została przedstawiona na powyższym rysunku.\n",
        "   Możliwe są 3 przypadki:\n",
        "   - piksel leży w rogach obrazu (kolor czerwony) - wtedy za próg przyjmuje się wartość średniej obliczonej dla danego okna,\n",
        "   - piksel leży na krawędzi obrazu (kolor zielony) - wtedy za próg przyjmuje się wartość obliczoną na podstawie średnich z dwóch sąsiednich okien,\n",
        "   - piksel leży w środku (kolor fioletowy) - wtedy próg jest obliczany na podstawie 4 sąsiednich okien.\n",
        "\n",
        "   Uwaga. Proszę zwrócić uwagę, że sprawa jest dość złożona.\n",
        "   Obraz dzielimy na okna (dla nich liczymy średnią) i następnie każde z okien \"wirtualnie\" na cztery sub-okna (linie przerywane).\n",
        "   To ułatwia znalezienie środków okien (czarne kwadraty), które są wykorzystywane w interpolacji.\n",
        "\n",
        "5. Implementujemy interpolację.\n",
        "   Potrzebujemy do tego znać progi (jeden, dwa lub cztery), ale dla przejrzystości obliczeń lepiej zawsze przyjąć cztery oraz odległości od rozważnego piksela do środka sąsiednich okien (też w ogólnym przypadku 4):\n",
        "   - całość sprowadza się do określania pozycji piksela,\n",
        "   - na początek rozważmy przypadek czterech narożników (kolor czerwony na rysunku) - trzeba napisać `if`, który je wyznaczy,\n",
        "   - warto sprawdzić, czy nie popełniliśmy błędu i np. tymczasowo do obrazu wynikowego w tym miejscu przypisać wartość 255. Efekt powinien być taki, że widoczne będą tylko narożniki.\n",
        "   - drugi przypadek do brzegi (kolor zielony) - postępujemy podobnie jak przy narożnikach, przy czym osobno wydzielamy brzegi pionowe i poziome. Tu też warto sobie obrazek \"pokolorować\".\n",
        "   - na koniec wyznaczamy piksele w środku.\n",
        "   - analizując poprawność proszę zwrócić uwagę na to, żeby nie było przerw pomiędzy obszarami.\n",
        "   - mając podział możemy dla każdego z obszarów wyliczyć cztery progi ($t11, t12, t21, t22$):\n",
        "        - dla narożników wartość ta będzie identyczna i wynosi po prostu `t11 =t[jT][iT]`, gdzie `iT=i//W` oraz `jT=j//W`.\n",
        "          Uwaga. Proszę używać indeksów tymczasowych $jT,iT$, gdyż będą potrzebne w dalszych obliczeniach.\n",
        "        - dla brzegów pionowych występują dwie wartości: okno bieżące i sąsiednie.\n",
        "          Wyznaczenie współrzędnej poziomej jest proste (jak dla narożników).\n",
        "          Nad współrzędną pionową trzeba się chwilę zastanowić - aby nie rozważać wielu przypadków można od bieżącej współrzędnej odjąć połowę rozmiaru okna i dopiero później wykonać dzielenie przez rozmiar okna.\n",
        "          W ten sposób otrzymujemy indeks okna o mniejszej współrzędnej.\n",
        "          Indeks drugiego uzyskamy dodając 1.\n",
        "          Proszę się zastanowić dlaczego to działa - najlepiej to sobie rozrysować.\n",
        "        - dla brzegów poziomych należy postąpić analogicznie,\n",
        "        - obliczenia dla obszaru wewnątrz powinny być już oczywiste.\n",
        "   - kolejny krok to wyliczenie odległości pomiędzy rozważanym pikselem, a czterema środkami.\n",
        "     Przykładowo dla osi X wygląda to następująco: `dX1 = i - W/2 - iT*W` oraz `dX2 = (iT+1)*W - i-W/2`.\n",
        "     Dla osi Y analogicznie.\n",
        "     Ponownie proszę się zastanowić dlaczego to jest poprawne - najlepiej to sobie narysować.\n",
        "   - ostatni krok to interpolacja dwuliniowa.\n",
        "     Wykonamy ją w trzech krokach:\n",
        "     - interpolacja w osi X dla dwóch górnych okien - sprowadza się ona do średniej ważonej pomiędzy wartościami $t11$ i $t12$, przy czym wagi to odpowiednio $dX2/W$ i $dX1/W$.\n",
        "       Ponownie na podstawie rysunku proszę to przemyśleć.\n",
        "     - interpolacja w osi X dla dolnych okien jest analogiczna,\n",
        "     - interpolacja w osi Y również jest analogiczna, z tym, że wejściem są dwa wyniki interpolacji w poziomie.\n",
        "\n",
        "6. \"Kropka nad i\" to oczywiście binaryzacja z wyznaczonym poprzez interpolację progiem - proszę dobrać rozmiar okna.\n",
        "7. Na koniec proszę porównać na wspólnym rysunku poznane metody binaryzacji:\n",
        "- Otsu,\n",
        "- lokalna na podstawie średniej,\n",
        "- lokalna Sauvoli,\n",
        "- lokalna w oknach bez interpolacji,\n",
        "- lokalna w oknach z interpolacją.\n",
        "\n",
        "Proszę pod porównaniem, w osobnej sekcji *markdown*, krótko skomentować uzyskane wyniki."
      ],
      "metadata": {
        "collapsed": false,
        "id": "g8rKazIfhXGj"
      }
    },
    {
      "cell_type": "code",
      "source": [
        "def calculate_auto_threshold(image):\n",
        "    histogram = cv2.calcHist([image], [0], None, [256], [0, 256])\n",
        "    pi = histogram / sum(histogram)\n",
        "    pi_cum_sum = np.cumsum(pi)\n",
        "    intensity_values = range(256)\n",
        "\n",
        "    k = np.dot(intensity_values, pi)\n",
        "\n",
        "    while True:\n",
        "        P0 = pi_cum_sum[int(k)]\n",
        "        m0 = np.dot(intensity_values[:int(k) + 1], pi[:int(k) + 1]) / P0 if P0 > 0 else 0\n",
        "\n",
        "        P1 = 1 - P0\n",
        "        m1 = np.dot(intensity_values[int(k) + 1:], pi[int(k) + 1:]) / P1 if P1 > 0 else 0\n",
        "\n",
        "        k_new = (m0 + m1) / 2\n",
        "\n",
        "        if abs(k_new - k) < 1:\n",
        "            break\n",
        "\n",
        "        k = k_new\n",
        "\n",
        "    return k\n"
      ],
      "metadata": {
        "id": "z0HJw8eSnvON"
      },
      "execution_count": null,
      "outputs": []
    },
    {
      "cell_type": "code",
      "source": [
        "def otsu_threshold(image):\n",
        "    histogram = cv2.calcHist([image], [0], None, [256], [0, 256])\n",
        "    pi = histogram / np.sum(histogram)\n",
        "    pi_cum_sum = np\n",
        "\n",
        "\n",
        "    mean_intensity = np.dot(np.arange(256), pi)\n",
        "\n",
        "    P0 = 0\n",
        "    m = 0\n",
        "    max_sigma_b2 = 0\n",
        "    optimal_k = 0\n",
        "    sigma_b2_values = np.zeros(256)\n",
        "\n",
        "    for k in range(256):\n",
        "        P0 += pi[k]\n",
        "        m += k * pi[k]\n",
        "\n",
        "        if P0 > 0 and P0 < 1:\n",
        "            P1 = 1 - P0\n",
        "            m1 = (mean_intensity - m) / P1\n",
        "\n",
        "            sigma_b2 = P0 * P1 * (m1 - m / P0) ** 2\n",
        "            sigma_b2_values[k] = sigma_b2\n",
        "\n",
        "            if sigma_b2 > max_sigma_b2:\n",
        "                max_sigma_b2 = sigma_b2\n",
        "                optimal_k = k\n",
        "\n",
        "    return (image > optimal_k).astype(np.uint8)\n"
      ],
      "metadata": {
        "id": "_TJcBdsDnrGE"
      },
      "execution_count": null,
      "outputs": []
    },
    {
      "cell_type": "code",
      "source": [
        "def local_threshold(image, window_size=15):\n",
        "    X, Y = image.shape\n",
        "    W = window_size\n",
        "\n",
        "    binary_image = np.zeros_like(image)\n",
        "\n",
        "    for j in range(W // 2, Y - W // 2):\n",
        "        for i in range(W // 2, X - W // 2):\n",
        "            local_window = image[j - W // 2:j + W // 2 + 1, i - W // 2:i + W // 2 + 1]\n",
        "            local_mean = np.mean(local_window)\n",
        "\n",
        "            binary_image[j, i] = image[j, i] > local_mean\n",
        "\n",
        "    return binary_image"
      ],
      "metadata": {
        "id": "B6oGfbpxnm6O"
      },
      "execution_count": null,
      "outputs": []
    },
    {
      "cell_type": "code",
      "execution_count": null,
      "outputs": [],
      "source": [
        "def sauvola_threshold(image, window_size=15, k=0.15, R=128):\n",
        "    X, Y = image.shape\n",
        "    W = window_size\n",
        "\n",
        "    binary_image = np.zeros_like(image)\n",
        "    for j in range(W // 2, Y - W // 2):\n",
        "        for i in range(W // 2, X - W // 2):\n",
        "            local_window = image[j - W // 2:j + W // 2 + 1, i - W // 2:i + W // 2 + 1]\n",
        "            local_mean = local_window.mean()\n",
        "            local_std = local_window.std()\n",
        "\n",
        "            threshold = local_mean * (1 - k * ((local_std / R) - 1))\n",
        "            binary_image[j, i] = image[j, i] > threshold\n",
        "\n",
        "    return binary_image"
      ],
      "metadata": {
        "pycharm": {
          "name": "#%%\n"
        },
        "id": "XHAv36hKhXGl"
      }
    },
    {
      "cell_type": "code",
      "source": [
        "def adaptive_threshold_without_interpolation(image, window_size):\n",
        "    rows, cols = image.shape\n",
        "\n",
        "    averages = np.zeros((rows // window_size, cols // window_size), dtype=np.float32)\n",
        "\n",
        "    for i in range(0, rows, window_size):\n",
        "        for j in range(0, cols, window_size):\n",
        "            window = image[i:i + window_size, j:j + window_size]\n",
        "            averages[i // window_size, j // window_size] = np.mean(window)\n",
        "\n",
        "    binary_image = np.zeros_like(image, dtype=np.uint8)\n",
        "\n",
        "    for i in range(rows):\n",
        "        for j in range(cols):\n",
        "            iT, jT = i // window_size, j // window_size\n",
        "            threshold = averages[iT, jT]\n",
        "            binary_image[i, j] = image[i, j] > threshold\n",
        "\n",
        "    return binary_image\n"
      ],
      "metadata": {
        "id": "fj-yZYHIo-t-"
      },
      "execution_count": null,
      "outputs": []
    },
    {
      "cell_type": "code",
      "source": [
        "def bilinear_interpolation_thresholding(image, window_size):\n",
        "\n",
        "    rows, cols = image.shape\n",
        "\n",
        "    averages = np.zeros((rows // window_size, cols // window_size), dtype=np.float32)\n",
        "\n",
        "    for i in range(0, rows, window_size):\n",
        "        for j in range(0, cols, window_size):\n",
        "            window = image[i:i + window_size, j:j + window_size]\n",
        "            averages[i // window_size, j // window_size] = np.mean(window)\n",
        "\n",
        "    binary_image = np.zeros_like(image, dtype=np.uint8)\n",
        "\n",
        "    for i in range(rows):\n",
        "        for j in range(cols):\n",
        "            iT, jT = i // window_size, j // window_size\n",
        "\n",
        "            t11 = averages[jT, iT]\n",
        "            t12 = averages[jT, min(iT + 1, averages.shape[1] - 1)]\n",
        "            t21 = averages[min(jT + 1, averages.shape[0] - 1), iT]\n",
        "            t22 = averages[min(jT + 1, averages.shape[0] - 1), min(iT + 1, averages.shape[1] - 1)]\n",
        "\n",
        "            dX1 = i - (iT * window_size + window_size // 2)\n",
        "            dX2 = (iT + 1) * window_size + window_size // 2 - i\n",
        "            dY1 = j - (jT * window_size + window_size // 2)\n",
        "            dY2 = (jT + 1) * window_size + window_size // 2 - j\n",
        "\n",
        "            dX1, dX2 = dX1 / window_size, dX2 / window_size\n",
        "            dY1, dY2 = dY1 / window_size, dY2 / window_size\n",
        "\n",
        "            t_upper = t11 * dX2 + t12 * dX1\n",
        "            t_lower = t21 * dX2 + t22 * dX1\n",
        "\n",
        "            threshold = t_upper * dY2 + t_lower * dY1\n",
        "\n",
        "            binary_image[i, j] = image[i, j] > threshold\n",
        "\n",
        "    return binary_image\n"
      ],
      "metadata": {
        "id": "1Y7it6pMq0te"
      },
      "execution_count": null,
      "outputs": []
    },
    {
      "cell_type": "code",
      "source": [
        "def plot_interpolation_results(original_image, binary_image, window_size):\n",
        "\n",
        "    plt.figure(figsize=(10, 5))\n",
        "    plt.subplot(1, 2, 1)\n",
        "    plt.title(\"Original Image\")\n",
        "    plt.imshow(original_image, cmap=\"gray\")\n",
        "    plt.axis(\"off\")\n",
        "\n",
        "    plt.subplot(1, 2, 2)\n",
        "    plt.title(f\"Binary Image (W={window_size})\")\n",
        "    plt.imshow(binary_image, cmap=\"gray\")\n",
        "    plt.axis(\"off\")\n",
        "\n",
        "    plt.tight_layout()\n",
        "    plt.show()\n"
      ],
      "metadata": {
        "id": "RHrBNxDUxgiZ"
      },
      "execution_count": null,
      "outputs": []
    },
    {
      "cell_type": "code",
      "source": [
        "img = cv2.imread(\"rice.png\", cv2.IMREAD_GRAYSCALE)\n",
        "\n",
        "window_size = 16\n",
        "\n",
        "binary_otsu = otsu_threshold(img)\n",
        "binary_local_mean = local_threshold(img)\n",
        "binary_local_sauvola = sauvola_threshold(img)\n",
        "binary_no_interp = adaptive_threshold_without_interpolation(img, window_size)\n",
        "binary_interp = bilinear_interpolation_thresholding(img, window_size)\n",
        "\n",
        "plt.figure(figsize=(15, 10))\n",
        "\n",
        "plt.subplot(2, 3, 1)\n",
        "plt.title(\"Original Image\")\n",
        "plt.imshow(img, cmap=\"gray\")\n",
        "plt.axis(\"off\")\n",
        "\n",
        "plt.subplot(2, 3, 2)\n",
        "plt.title(\"Otsu\")\n",
        "plt.imshow(binary_otsu, cmap=\"gray\")\n",
        "plt.axis(\"off\")\n",
        "\n",
        "plt.subplot(2, 3, 3)\n",
        "plt.title(\"Local Mean\")\n",
        "plt.imshow(binary_local_mean, cmap=\"gray\")\n",
        "plt.axis(\"off\")\n",
        "\n",
        "plt.subplot(2, 3, 4)\n",
        "plt.title(\"Local Sauvola\")\n",
        "plt.imshow(binary_local_sauvola, cmap=\"gray\")\n",
        "plt.axis(\"off\")\n",
        "\n",
        "plt.subplot(2, 3, 5)\n",
        "plt.title(\"No Interpolation\")\n",
        "plt.imshow(binary_no_interp, cmap=\"gray\")\n",
        "plt.axis(\"off\")\n",
        "\n",
        "plt.subplot(2, 3, 6)\n",
        "plt.title(\"With Interpolation\")\n",
        "plt.imshow(binary_interp, cmap=\"gray\")\n",
        "plt.axis(\"off\")\n",
        "\n",
        "plt.tight_layout()\n",
        "plt.show()"
      ],
      "metadata": {
        "id": "IInwFOKZyMiv"
      },
      "execution_count": null,
      "outputs": []
    }
  ],
  "metadata": {
    "celltoolbar": "Raw Cell Format",
    "kernelspec": {
      "display_name": "Python 3",
      "language": "python",
      "name": "python3"
    },
    "language_info": {
      "codemirror_mode": {
        "name": "ipython",
        "version": 3
      },
      "file_extension": ".py",
      "mimetype": "text/x-python",
      "name": "python",
      "nbconvert_exporter": "python",
      "pygments_lexer": "ipython3",
      "version": "3.8.3"
    },
    "colab": {
      "provenance": []
    }
  },
  "nbformat": 4,
  "nbformat_minor": 0
}