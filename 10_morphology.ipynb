{
  "cells": [
    {
      "cell_type": "markdown",
      "metadata": {
        "id": "NnDX1AhkKHGr"
      },
      "source": [
        "# Przekształcenia morfologiczne\n",
        "\n",
        "## Cel:\n",
        "- zapoznanie z podstawowymi przekształceniami morfologicznymi – erozją, dylatacją, otwarciem, zamknięciem, transformacją trafi, nie trafi,\n",
        "- zapoznanie ze złożonymi operacjami morfologicznymi wykorzystującymi rekonstrukcję morfologiczną,\n",
        "- zapoznanie z operacjami morfologicznym dla obrazów w odcieniach szarości – erozją, dylatacją, otwarciem, zamknięciem, filtrami top-hat i bottom-hat,\n",
        "- zapoznanie z wykorzystaniem złożonych operacji morfologicznych przy rozwiązywaniu konkretnego problemu,\n",
        "- zadanie domowe: wykorzystanie morfologii do implementacji ,,gry w życie''."
      ]
    },
    {
      "cell_type": "markdown",
      "metadata": {
        "id": "CbPVOPm8KHGx"
      },
      "source": [
        "## Przypomnienie teorii\n",
        "\n",
        "### Element strukturalny\n",
        "\n",
        "Element strukturalny obrazu jest to pewien wycinek obrazu (przy dyskretnej reprezentacji obrazu – pewien podzbiór jego elementów).\n",
        "Najczęściej stosowanym elementem strukturalnym jest kwadratowa maska o rozmiarze 3×3 lub 5×5. Niekiedy pożądane są maski o innym kształcie, np. zbliżonym do elipsy.\n",
        "\n",
        "### Erozja\n",
        "\n",
        "Erozja (ang. _erosion_) jest podstawowym przekształceniem morfologicznym.\n",
        "Zakładamy, że obraz wyjściowy zawiera pewien obszar (figurę) X, wyróżniający się pewną charakterystyczną cechą (np. odróżniającą się od tła jasnością).\n",
        "Figura X po wykonaniu operacji erozji to zbiór punktów centralnych wszystkich elementów strukturalnych, które w całości mieszczą się we wnętrzu obszaru X.\n",
        "Miarą stopnia erozji jest wielkość elementu strukturalnego.\n",
        "\n",
        "**Erozję** można traktować jako **filtr minimalny**, tj. z danego otoczenia piksela (określanego przez maskę) do obrazu wynikowego wybierana jest wartość minimalna.\n",
        "\n",
        "### Dylatacja\n",
        "\n",
        "Dylatacja (ang. _dilation_): Zakładamy, że obraz wejściowy zawiera obszar X wyróżniający się pewną charakterystyczną cechą (np. jasnością). Figura przekształcona przez dylatacje to zbiór punktów centralnych wszystkich elementów strukturalnych, których którykolwiek punkt mieści sie we wnętrzu obszaru X. Miarą  dylatacji jest wielkość elementu strukturalnego.\n",
        "\n",
        "**Dylatację** można traktować jako **filtr maksymalny**, tj. z danego otoczenia piksela (określanego\n",
        "przez maskę) do obrazu wynikowego wybierana jest wartość maksymalna.\n",
        "\n",
        "### Otwarcie i zamknięcie\n",
        "\n",
        "Otwarcie (ang. _opening_) polega na wykonaniu najpierw operacji erozji, a następnie dylatacji.\n",
        "\n",
        "> Otwarcie = erozja + dylatacja\n",
        "\n",
        "Zamkniecie (ang. _closing_) polega na wykonaniu najpierw operacji dylatacji, a następnie erozji.\n",
        "\n",
        "> Zamkniecie = dylatacja + erozja\n",
        "\n",
        "### Obrazy w odcieniu szarości\n",
        "\n",
        "Obrazy w odcieniu szarości – detekcja dolin i szczytów (ang. _top-hat_, _bottom-hat_):\n",
        "\n",
        "Aby wyodrębnić z obrazu lokalne ekstrema można wykorzystać zdefiniowane wcześniej przekształcenia: otwarcie i zamkniecie.\n",
        "W celu wyszukania lokalnych maksimów (szczytów) należy od wyniku otwarcia danego obrazu odjąć obraz wyjściowy.\n",
        "Analogicznie, aby wyodrębnić lokalne minima obrazu, należy dokonać podobnej operacji, z tym że pierwszą operacją bedzie zamknięcie.\n",
        "Uwaga! Należy zwrócić uwagę, że poniższe metody służą do detekcji (pokreślenia) tylko lokalnych ekstremów!"
      ]
    },
    {
      "cell_type": "markdown",
      "metadata": {
        "id": "_mWYIIJBKHGz"
      },
      "source": [
        "## Podstawowe operacje morfologiczne: erozja, dylatacja, otwarcie, zamknięcie, trafi nie trafi\n",
        "\n",
        "1. Wczytaj obraz ertka.bmp\n",
        "2. Wykonaj operację erozji `cv2.erode`. Parametrami funkcji są obraz oraz element strukturalny. Element można stworzyć samodzielnie jako tablicę składającą się z 0 i 1 `np.ones((3,3))` lub posłużyć się funkcją `cv2.getStructuringElement`, do której należy podać kształt `cv2.MORPH_RECT` oraz wielkość elementu `(3,3)`. Na początku użyj kwadratu o rozmiarze 3 pikseli.\n",
        "3. Wyświetl obraz oryginalny oraz po wykonaniu erozji – najlepiej na wspólnym wykresie. Upewnij się, że rozumiesz, jak działa erozja.\n",
        "4. Zmień element strukturalny (inny kształt – koło, diament lub inny rozmiar). Ponownie wykonaj erozję, sprawdź rezultat działania operacji.\n",
        "5. Oprócz zmiany elementu strukturalnego na rezultat erozji można wpłynąć zwiększając liczbę iteracji (np. wykonać erozję trzykrotnie). Ustal element strukturalny na kwadrat o boku 3 piksele. Wykonaj erozję obrazu _ertka_ dwukrotnie, a następnie trzykrotnie. Zaobserwuj rezultaty. Wskazówka: warto zajrzeć do dokumentacji funkcji `erode`.\n",
        "6. Wczytaj obraz buzka.bmp. Dobierz element strukturalny (zdefiniuj go ręcznie jako macierz 0 i 1) w taki sposób, aby usunąć włosy o określonej orientacji (ukośnie lewo lub prawo).\n",
        "7. Uwaga: pokazane metody wpływania na rezultaty erozji wykorzystuje się identycznie dla pozostałych operacji morfologicznych – dylatacji, otwarcia i zamknięcia.\n",
        "8. Operacją odwrotną do erozji jest dylatacja `cv2.dilate`. Ustal element strukturalny na kwadrat o boku 3 piksele. Wykonaj dylatację obrazu _ertka_. Zapoznaj się z rezultatem działania.\n",
        "9. Na wspólnym wykresie wyświetl obraz oryginalny oraz obrazy po operacjach morfologicznych: erozja, dylatacja, otwarcie i zamkniecie. Otwarcie i zamknięcie można uzyskać za pomocą `cv2.morphologyEx(img, operacja, element_strukturalny)`, gdzie typem operacji jest `cv2.MORPH_OPEN` lub `cv2.MORPH_CLOSE`.\n",
        "10. Zmień obraz _ertka_ na _wyspa_, a następnie na _kolka_. Wykonaj na każdym cztery przedstawione operacje morfologiczne. Zaobserwuj rezultaty.\n",
        "11. Minizadanko: wykorzystując poznane operacje morfologiczne spowoduj, że na obrazie _ertka_ pozostanie tylko napis RT (bez wypustek i dziur).\n",
        "12. Niekiedy potrzebne jest wykrycie konkretnych konfiguracji pikseli na obrazie – przydaje się do tego transformacja trafi, nie trafi (ang. _hit-or-miss_). Pozwala ona wykryć na obrazie obecność elementów, które dokładnie odpowiadają masce.\n",
        "13. Wczytaj obraz hom.bmp. Wyświetl go. Załóżmy, że chcemy wykryć na obrazie krzyżyki 3x3. Zdefiniuj następujący element strukturalny:\n",
        "```\n",
        "[0,1,0]\n",
        "[1,1,1]\n",
        "[0,1,0]\n",
        "```\n",
        "Wykonaj transformację trafi, nie trafi – `cv2.morphologyEx(hom, cv2.MORPH_HITMISS, se1)`. Rezultat operacji wyświetl. Czy udało się zrealizować zadanie? Jeżeli pojawiają się u Państwa błędy związane z typem danych, należy obraz wejściowy przekonwertować na skalę szarości: `cv2.cvtColor(hom, cv2.COLOR_BGR2GRAY)`.\n"
      ]
    },
    {
      "cell_type": "code",
      "execution_count": null,
      "metadata": {
        "id": "r375Q-2bKHG1"
      },
      "outputs": [],
      "source": [
        "import matplotlib.pyplot as plt\n",
        "import cv2\n",
        "import numpy as np\n",
        "import os\n",
        "import requests\n",
        "\n",
        "url = 'https://raw.githubusercontent.com/vision-agh/poc_sw/master/10_Morphology/'\n",
        "\n",
        "fileNames = [\"buzka.bmp\", \"calculator.bmp\", \"ertka.bmp\", \"ferrari.bmp\", \"fingerprint.bmp\", \"hom.bmp\", \"kolka.bmp\", \"kosc.bmp\", \"szkielet.bmp\", \"text.bmp\", \"wyspa.bmp\", \"rice.png\", \"gra.py\"]\n",
        "for fileName in fileNames:\n",
        "  if not os.path.exists(fileName):\n",
        "      r = requests.get(url + fileName, allow_redirects=True)\n",
        "      open(fileName, 'wb').write(r.content)\n"
      ]
    },
    {
      "cell_type": "code",
      "source": [
        "import cv2\n",
        "import numpy as np\n",
        "import matplotlib.pyplot as plt\n",
        "\n",
        "ertka = cv2.imread('ertka.bmp', cv2.IMREAD_GRAYSCALE)\n",
        "kernel_square = cv2.getStructuringElement(cv2.MORPH_RECT, (3, 3))\n",
        "erosion_square = cv2.erode(ertka, kernel_square)\n",
        "\n",
        "plt.figure(figsize=(10, 5))\n",
        "plt.subplot(1, 2, 1)\n",
        "plt.title(\"Oryginalny\")\n",
        "plt.imshow(ertka, cmap='gray')\n",
        "plt.subplot(1, 2, 2)\n",
        "plt.title(\"Erozja - kwadrat 3x3\")\n",
        "plt.imshow(erosion_square, cmap='gray')\n",
        "plt.show()"
      ],
      "metadata": {
        "id": "cZlxyyV1kEgn"
      },
      "execution_count": null,
      "outputs": []
    },
    {
      "cell_type": "code",
      "source": [
        "kernel_circle = cv2.getStructuringElement(cv2.MORPH_ELLIPSE, (5, 5))\n",
        "erosion_circle = cv2.erode(ertka, kernel_circle)\n",
        "\n",
        "plt.figure(figsize=(10, 5))\n",
        "plt.subplot(1, 2, 1)\n",
        "plt.title(\"Oryginalny\")\n",
        "plt.imshow(ertka, cmap='gray')\n",
        "plt.subplot(1, 2, 2)\n",
        "plt.title(\"Erozja - koło 5x5\")\n",
        "plt.imshow(erosion_circle, cmap='gray')\n",
        "plt.show()"
      ],
      "metadata": {
        "id": "8KrJEwNKkGn8"
      },
      "execution_count": null,
      "outputs": []
    },
    {
      "cell_type": "code",
      "source": [
        "erosion_iter2 = cv2.erode(ertka, kernel_square, iterations=2)\n",
        "erosion_iter3 = cv2.erode(ertka, kernel_square, iterations=3)\n",
        "\n",
        "plt.figure(figsize=(15, 5))\n",
        "plt.subplot(1, 3, 1)\n",
        "plt.title(\"Oryginalny\")\n",
        "plt.imshow(ertka, cmap='gray')\n",
        "plt.subplot(1, 3, 2)\n",
        "plt.title(\"Erozja x2\")\n",
        "plt.imshow(erosion_iter2, cmap='gray')\n",
        "plt.subplot(1, 3, 3)\n",
        "plt.title(\"Erozja x3\")\n",
        "plt.imshow(erosion_iter3, cmap='gray')\n",
        "plt.show()"
      ],
      "metadata": {
        "id": "WmbsTnnlkI3i"
      },
      "execution_count": null,
      "outputs": []
    },
    {
      "cell_type": "code",
      "source": [
        "buzka = cv2.imread('buzka.bmp', cv2.IMREAD_GRAYSCALE)\n",
        "kernel_hair = np.array([[0, 0, 1],\n",
        "                        [0, 1, 0],\n",
        "                        [1, 0, 0]], dtype=np.uint8)\n",
        "erosion_hair = cv2.erode(buzka, kernel_hair)\n",
        "\n",
        "plt.figure(figsize=(10, 5))\n",
        "plt.subplot(1, 2, 1)\n",
        "plt.title(\"Oryginalny\")\n",
        "plt.imshow(buzka, cmap='gray')\n",
        "plt.subplot(1, 2, 2)\n",
        "plt.title(\"Erozja - usunięcie włosów\")\n",
        "plt.imshow(erosion_hair, cmap='gray')\n",
        "plt.show()"
      ],
      "metadata": {
        "id": "24VR5yl3kM7y"
      },
      "execution_count": null,
      "outputs": []
    },
    {
      "cell_type": "code",
      "source": [
        "dilation = cv2.dilate(ertka, kernel_square)\n",
        "opening = cv2.morphologyEx(ertka, cv2.MORPH_OPEN, kernel_square)\n",
        "closing = cv2.morphologyEx(ertka, cv2.MORPH_CLOSE, kernel_square)\n",
        "\n",
        "plt.figure(figsize=(20, 5))\n",
        "plt.subplot(1, 4, 1)\n",
        "plt.title(\"Oryginalny\")\n",
        "plt.imshow(ertka, cmap='gray')\n",
        "plt.subplot(1, 4, 2)\n",
        "plt.title(\"Erozja\")\n",
        "plt.imshow(erosion_square, cmap='gray')\n",
        "plt.subplot(1, 4, 3)\n",
        "plt.title(\"Dylatacja\")\n",
        "plt.imshow(dilation, cmap='gray')\n",
        "plt.subplot(1, 4, 4)\n",
        "plt.title(\"Otwarcie\")\n",
        "plt.imshow(opening, cmap='gray')\n",
        "plt.show()"
      ],
      "metadata": {
        "id": "_wUYtfaQkO7B"
      },
      "execution_count": null,
      "outputs": []
    },
    {
      "cell_type": "code",
      "source": [
        "hom = cv2.imread('hom.bmp', cv2.IMREAD_GRAYSCALE)\n",
        "se1 = np.array([[0, 1, 0],\n",
        "                [1, 1, 1],\n",
        "                [0, 1, 0]], dtype=np.uint8)\n",
        "hit_miss = cv2.morphologyEx(hom, cv2.MORPH_HITMISS, se1)\n",
        "\n",
        "plt.figure(figsize=(10, 5))\n",
        "plt.subplot(1, 2, 1)\n",
        "plt.title(\"Oryginalny\")\n",
        "plt.imshow(hom, cmap='gray')\n",
        "plt.subplot(1, 2, 2)\n",
        "plt.title(\"Hit-or-miss\")\n",
        "plt.imshow(hit_miss, cmap='gray')\n",
        "plt.show()\n"
      ],
      "metadata": {
        "id": "BkxWcGgfkBc4"
      },
      "execution_count": null,
      "outputs": []
    },
    {
      "cell_type": "markdown",
      "metadata": {
        "id": "QgLQKgtvKHG2"
      },
      "source": [
        "## Inne operacje morfologiczne\n",
        "Do innych operacji morfologicznych należą między innymi ścienianie (ang. _thinning_), szkieletyzacja (ang. _skeletonization_), rekonstrukcja morfologiczna (ang. _morphological reconstruction_), czyszczenie brzegu (ang. _clearing border_) i uzupełnianie dziur (ang. _filling holes_). W tym rozdziale zostanie zaprezentowana rekonstrukcja morfologiczna.\n",
        "\n",
        "Rekonstrukcja morfologiczna jest operacją trójargumentową. Wymaga podania markera (obrazu, od którego zacznie się transformacja), maski (ograniczenia transformacji) oraz elementu strukturalnego. Operacja polega na wykonywaniu kroków (dopóki w dwóch kolejnych iteracjach nic się nie zmieni):\n",
        "- dylatacja obrazu markera (z danym elementem strukturalnym),\n",
        "- nowy marker = część wspólna dylatacji starego markera i maski.\n",
        "\n",
        "Trzy operacje, które wykorzystują schemat rekonstrukcji to:\n",
        "- otwarcie poprzez rekonstrukcję,\n",
        "- wypełnianie dziur,\n",
        "- czyszczenie brzegu.\n",
        "\n",
        "### Otwarcie poprzez rekonstrukcję:\n",
        "- Wczytaj obraz text.bmp, wyświetl go.\n",
        "- Załóżmy, że chcemy wykryć na obrazie litery, które zawierają długie pionowe fragmenty. W pierwszym podejściu stosujemy morfologiczne otwarcie z maską pionową o wysokości 51 pikseli (taka jest średnia wysokość liter na obrazie – `np.ones((51,1))`. Sprawdź rezultat takiej operacji.\n",
        "- Detekcja wprawdzie sie udała, ale otrzymujemy tylko pionowe kreski.\n",
        "- Rozwiązaniem jest rekonstrukcja – jako marker wybieramy obraz oryginalny poddany erozji. Maskę stanowi obraz oryginalny. Samodzielnie dobierz element strukturalny.\n",
        "- Zaimplementuj rekonstrukcję i porównaj efekt otwarcia i rekonstrukcji.\n"
      ]
    },
    {
      "cell_type": "code",
      "source": [
        "text = cv2.imread('text.bmp', cv2.IMREAD_GRAYSCALE)\n",
        "plt.figure(figsize=(10, 5))\n",
        "plt.title(\"Oryginalny\")\n",
        "plt.imshow(text, cmap='gray')\n",
        "plt.show()"
      ],
      "metadata": {
        "id": "pDPt6bEyk_IR"
      },
      "execution_count": null,
      "outputs": []
    },
    {
      "cell_type": "code",
      "source": [
        "kernel_vertical = np.ones((51, 1), dtype=np.uint8)\n",
        "opened = cv2.morphologyEx(text, cv2.MORPH_OPEN, kernel_vertical)\n",
        "\n",
        "plt.figure(figsize=(10, 5))\n",
        "plt.title(\"Otwarcie - maska pionowa 51x1\")\n",
        "plt.imshow(opened, cmap='gray')\n",
        "plt.show()"
      ],
      "metadata": {
        "id": "OtWiyj7KlASd"
      },
      "execution_count": null,
      "outputs": []
    },
    {
      "cell_type": "code",
      "source": [
        "def morphological_reconstruction(marker, mask, kernel):\n",
        "    eroded = cv2.erode(marker, mask)\n",
        "    last = eroded\n",
        "\n",
        "    while True:\n",
        "        dilated = cv2.dilate(last, kernel)\n",
        "        reconstructed = cv2.bitwise_and(dilated, marker)\n",
        "\n",
        "        difference = cv2.subtract(reconstructed, last)\n",
        "        if not np.any(difference):\n",
        "            break\n",
        "\n",
        "        last = reconstructed\n",
        "\n",
        "    return reconstructed"
      ],
      "metadata": {
        "id": "1J1T_PyBlwb-"
      },
      "execution_count": null,
      "outputs": []
    },
    {
      "cell_type": "code",
      "execution_count": null,
      "metadata": {
        "id": "6oy1-pqdKHG3"
      },
      "outputs": [],
      "source": [
        "eroded = cv2.erode(text, kernel_vertical)\n",
        "dilation_struct = cv2.getStructuringElement(cv2.MORPH_RECT, (3, 3))\n",
        "reconstructed = morphological_reconstruction(text, kernel_vertical, dilation_struct)\n",
        "\n",
        "plt.figure(figsize=(15, 5))\n",
        "plt.subplot(1, 2, 1)\n",
        "plt.title(\"Otwarcie\")\n",
        "plt.imshow(opened, cmap='gray')\n",
        "plt.subplot(1, 2, 2)\n",
        "plt.title(\"Rekonstrukcja\")\n",
        "plt.imshow(reconstructed, cmap='gray')\n",
        "plt.show()"
      ]
    },
    {
      "cell_type": "markdown",
      "metadata": {
        "id": "x_irwB7fKHG3"
      },
      "source": [
        "## Operacje morfologiczne dla obrazów w skali szarości\n",
        "\n",
        "Wszystkie dotychczasowe operacje (oprócz transformacji trafi, nie trafi) mają swoje odpowieniki dla obrazów w skali szarości. Konieczne jest tylko podanie definicji erozji i dylatacji w nieco innej formie:\n",
        "- Erozja – filtr minimalny.\n",
        "- Dylatacja – filtr maksymalny.\n",
        "\n",
        "\n",
        "1. Wczytaj obraz ferrari.bmp i wykonaj operacje morfologiczne: erozję i dylatację. Element strukturalny ustal na kwadrat 3×3. Oblicz też różnicę pomiędzy obrazem po dylatacji a po erozji – czyli tzw. gradient morfologiczny. Rezultaty wyświetl na wspólnym wykresie.\n",
        "2. Otwarcie to tłumienie jasnych detali na obrazie. Zamkniecie to tłumienie ciemnych detali na obrazie. Potwierdź powyższe stwierdzenia wykonując obie operacje na obrazie _ferrari_.\n",
        "3. Wykonaj operacje top-hat i bottom-hat `cv2.morphologyEx(img, cv2.MORPH_TOPHAT, strel)` oraz `cv2.morphologyEx(img, cv2.MORPH_BLACKHAT, strel)` na obrazie _ferrari_. Jakie obszary udało sie wykryć za pomocą tej operacji? Z jakich operacji składa sie filtr top-hat?\n",
        "4. Wczytaj obraz rice.png (z laboratorium o binaryzacji). Wyświetl go. Zwróć uwage na niejednorodne oświetlenie. Wykonaj operacje top-hat z dużym elementem strukturalnym (np. koło o rozmiarze 10) na tym obrazie. Wynik wyświetl. Co stało się z niejednorodnością oświetlenia?"
      ]
    },
    {
      "cell_type": "code",
      "source": [
        "ferrari = cv2.imread('ferrari.bmp', cv2.IMREAD_GRAYSCALE)\n",
        "kernel_square = cv2.getStructuringElement(cv2.MORPH_RECT, (3, 3))\n",
        "\n",
        "eroded_ferrari = cv2.erode(ferrari, kernel_square)\n",
        "dilated_ferrari = cv2.dilate(ferrari, kernel_square)\n",
        "morph_gradient = dilated_ferrari - eroded_ferrari\n",
        "\n",
        "plt.figure(figsize=(15, 5))\n",
        "plt.subplot(1, 3, 1)\n",
        "plt.title(\"Erozja\")\n",
        "plt.imshow(eroded_ferrari, cmap='gray')\n",
        "plt.subplot(1, 3, 2)\n",
        "plt.title(\"Dylatacja\")\n",
        "plt.imshow(dilated_ferrari, cmap='gray')\n",
        "plt.subplot(1, 3, 3)\n",
        "plt.title(\"Gradient morfologiczny\")\n",
        "plt.imshow(morph_gradient, cmap='gray')\n",
        "plt.show()"
      ],
      "metadata": {
        "id": "QdoDzDyImyuq"
      },
      "execution_count": null,
      "outputs": []
    },
    {
      "cell_type": "code",
      "source": [
        "opening_ferrari = cv2.morphologyEx(ferrari, cv2.MORPH_OPEN, kernel_square)\n",
        "closing_ferrari = cv2.morphologyEx(ferrari, cv2.MORPH_CLOSE, kernel_square)\n",
        "\n",
        "plt.figure(figsize=(15, 5))\n",
        "plt.subplot(1, 2, 1)\n",
        "plt.title(\"Otwarcie\")\n",
        "plt.imshow(opening_ferrari, cmap='gray')\n",
        "plt.subplot(1, 2, 2)\n",
        "plt.title(\"Zamknięcie\")\n",
        "plt.imshow(closing_ferrari, cmap='gray')\n",
        "plt.show()"
      ],
      "metadata": {
        "id": "9wEAeQX6m0ZY"
      },
      "execution_count": null,
      "outputs": []
    },
    {
      "cell_type": "code",
      "source": [
        "top_hat = cv2.morphologyEx(ferrari, cv2.MORPH_TOPHAT, kernel_square)\n",
        "bottom_hat = cv2.morphologyEx(ferrari, cv2.MORPH_BLACKHAT, kernel_square)\n",
        "\n",
        "plt.figure(figsize=(15, 5))\n",
        "plt.subplot(1, 2, 1)\n",
        "plt.title(\"Top-hat\")\n",
        "plt.imshow(top_hat, cmap='gray')\n",
        "plt.subplot(1, 2, 2)\n",
        "plt.title(\"Bottom-hat\")\n",
        "plt.imshow(bottom_hat, cmap='gray')\n",
        "plt.show()"
      ],
      "metadata": {
        "id": "cf1XI7_Nm2t_"
      },
      "execution_count": null,
      "outputs": []
    },
    {
      "cell_type": "code",
      "execution_count": null,
      "metadata": {
        "pycharm": {
          "name": "#%%\n"
        },
        "id": "jmp6zrXkKHG4"
      },
      "outputs": [],
      "source": [
        "rice = cv2.imread('rice.png', cv2.IMREAD_GRAYSCALE)\n",
        "kernel_circle = cv2.getStructuringElement(cv2.MORPH_ELLIPSE, (10, 10))\n",
        "top_hat_rice = cv2.morphologyEx(rice, cv2.MORPH_TOPHAT, kernel_circle)\n",
        "\n",
        "plt.figure(figsize=(15, 5))\n",
        "plt.subplot(1, 2, 1)\n",
        "plt.title(\"Oryginalny\")\n",
        "plt.imshow(rice, cmap='gray')\n",
        "plt.subplot(1, 2, 2)\n",
        "plt.title(\"Top-hat - redukcja niejednorodności oświetlenia\")\n",
        "plt.imshow(top_hat_rice, cmap='gray')\n",
        "plt.show()\n"
      ]
    },
    {
      "cell_type": "markdown",
      "metadata": {
        "id": "qIwoiXs-KHG4"
      },
      "source": [
        "## Przykład zastosowania morfologii\n",
        "\n",
        "*   List item\n",
        "*   List item\n",
        "\n",
        "\n",
        "\n",
        "1. Wczytaj obraz calculator.bmp. Wyświetl go. Zadanie do realizacji: wyizolować tekst na klawiszach kalkulatora.\n",
        "2. W pierwszym kroku usunięte zostaną poziome odbicia znajdujące się na górnej krawędzi każdego z klawiszy. Wykorzystamy fakt, że odbicie jest dłuższe niż jakikolwiek pojedynczy znak. Wykonujemy otwarcie przez rekonstrukcję (można wykorzystać kod z wcześniejszego zadania, ale tym razem mamy do czynienia z obrazem w skali szarości zamiast z binarnym – proszę się zastanowić, jaka operacja jest odpowiednikiem operacji AND?):\n",
        "  - początkowo wykonujemy erozję z elementem strukturalnym w postaci poziomej linii — `np.ones((1,71))`,\n",
        "  - następnie dokonujemy rekonstrukcji: marker – obraz po erozji, maska – obraz oryginalny,\n",
        "  - wynik operacji wyświetl. Dla porównania wyświetl wynik klasycznego otwarcia z takim samym elementem strukturalnym. W czym otwarcie przez rekonstrukcję jest lepsze od klasycznego?\n",
        "3. W poprzednim kroku (tj. w wyniku otwarcia przez rekonstrukcję) uzyskaliśmy obraz tła. Należy go teraz odjąć od obrazu oryginalnego. Ten rodzaj operacji można nazwać top-hat poprzez rekonstrukcję. Wynik wyświetl. Dla porównania wyświetl wynik klasycznej operacji top-hat – różnicy miedzy obrazem oryginalnym a obrazem po klasycznym otwarciu.\n",
        "4. W podobny sposób należy zlikwidować odblaski pionowe:\n",
        "  - erozja z elementem strukturalnym w postaci poziomej linii – `np.ones((1,11))` – zostaną zachowane wszystkie znaki (bo prawie wszystkie są szersze). Uwaga. Operacje wykonujemy na uzyskanym w kroku 3 rezultacie odjęcia od obrazu oryginalnego, obrazu po rekonstrukcji.\n",
        "  - rekonstrukcja: marker – obraz po erozji, maska – obraz z punktu 3 (różnica oryginalnego i tła),\n",
        "  - wynik wyświetl.\n",
        "5. Rezultat jest niemal satysfakcjonujący, ale wystąpił problem z cienkimi pionowymi elementami napisów – np. I na klawiszu ASIN. Wykorzystując fakt, że usunięte znaki znajdują się w bezpośrednim sąsiedztwie istniejących znaków wykonujemy następujące operacje:\n",
        "  - dylatacja z elementem `np.ones((1,21))`,\n",
        "  - rekonstrukcja z markerem w postaci – minimum(obraz po dylatacji z punktu powyżej, obraz uzyskany w punkcie 3, tj. różnica oryginalnego i tła) oraz maską – obraz z pkt. 3.\n",
        "6. Rezultat wyświetl. Czy za pomocą zaproponowanych operacji udało się uzyskać zamierzony efekt – ekstrakcję napisów?\n"
      ]
    },
    {
      "cell_type": "code",
      "source": [
        "calculator = cv2.imread('calculator.bmp', cv2.IMREAD_GRAYSCALE)\n",
        "plt.figure(figsize=(10, 5))\n",
        "plt.title(\"Oryginalny\")\n",
        "plt.imshow(calculator, cmap='gray')\n",
        "plt.show()"
      ],
      "metadata": {
        "id": "8xBSYxJbpPIP"
      },
      "execution_count": null,
      "outputs": []
    },
    {
      "cell_type": "code",
      "source": [
        "def morphological_reconstruction_gray_shades(img, erosion_struct, dilation_struct):\n",
        "    eroded = cv2.erode(img, erosion_struct)\n",
        "    last = eroded\n",
        "\n",
        "    while True:\n",
        "        dilated = cv2.dilate(last, dilation_struct)\n",
        "\n",
        "        reconstructed = np.minimum(dilated, img)\n",
        "\n",
        "        difference = cv2.subtract(reconstructed, last)\n",
        "        if not np.any(difference):\n",
        "            break\n",
        "\n",
        "        last = reconstructed\n",
        "\n",
        "    return reconstructed"
      ],
      "metadata": {
        "id": "-ylGhm4NM3Il"
      },
      "execution_count": null,
      "outputs": []
    },
    {
      "cell_type": "code",
      "source": [
        "\n",
        "horizontal_kernel = np.ones((1, 71), dtype=np.uint8)\n",
        "dilation_struct = cv2.getStructuringElement(cv2.MORPH_RECT, (3, 3))\n",
        "reconstructed = morphological_reconstruction_gray_shades(calculator, horizontal_kernel, dilation_struct)\n",
        "\n",
        "kernel_circle = cv2.getStructuringElement(cv2.MORPH_ELLIPSE, (10, 10))\n",
        "opened = cv2.morphologyEx(calculator, cv2.MORPH_OPEN, kernel_circle)\n",
        "\n",
        "plt.figure(figsize=(15, 5))\n",
        "plt.subplot(1, 2, 1)\n",
        "plt.title(\"Otwarcie przez rekonstrukcję\")\n",
        "plt.imshow(reconstructed, cmap='gray')\n",
        "plt.subplot(1, 2, 2)\n",
        "plt.title(\"Klasyczne otwarcie\")\n",
        "plt.imshow(opened, cmap='gray')\n",
        "plt.show()"
      ],
      "metadata": {
        "id": "lR6U9lI-pRtK"
      },
      "execution_count": null,
      "outputs": []
    },
    {
      "cell_type": "code",
      "source": [
        "top_hat_reconstruction = calculator - reconstructed\n",
        "top_hat_classical = calculator - opened\n",
        "\n",
        "plt.figure(figsize=(15, 5))\n",
        "plt.subplot(1, 2, 1)\n",
        "plt.title(\"Top-hat przez rekonstrukcję\")\n",
        "plt.imshow(top_hat_reconstruction, cmap='gray')\n",
        "plt.subplot(1, 2, 2)\n",
        "plt.title(\"Klasyczne top-hat\")\n",
        "plt.imshow(top_hat_classical, cmap='gray')\n",
        "plt.show()"
      ],
      "metadata": {
        "id": "zHlYpRTMpXBi"
      },
      "execution_count": null,
      "outputs": []
    },
    {
      "cell_type": "code",
      "source": [
        "horizontal_kernel = np.ones((1, 11), dtype=np.uint8)\n",
        "reconstructed = morphological_reconstruction_gray_shades(top_hat_reconstruction, horizontal_kernel, dilation_struct)\n",
        "\n",
        "plt.figure(figsize=(10, 5))\n",
        "plt.title(\"Rekonstrukcja pionowych odblasków\")\n",
        "plt.imshow(reconstructed, cmap='gray')\n",
        "plt.show()"
      ],
      "metadata": {
        "id": "0x_6mupwpYrG"
      },
      "execution_count": null,
      "outputs": []
    },
    {
      "cell_type": "code",
      "execution_count": null,
      "metadata": {
        "pycharm": {
          "name": "#%%\n"
        },
        "id": "DIy6L9S7KHG5"
      },
      "outputs": [],
      "source": [
        "dilated = cv2.dilate(reconstructed, np.ones((1, 11), dtype=np.uint8))\n",
        "result = np.minimum(reconstructed, dilated)\n",
        "\n",
        "plt.figure(figsize=(10, 5))\n",
        "plt.title(\"Ekstrakcja napisów\")\n",
        "plt.imshow(result, cmap='gray')\n",
        "plt.show()"
      ]
    }
  ],
  "metadata": {
    "celltoolbar": "Raw Cell Format",
    "kernelspec": {
      "display_name": "Python 3",
      "language": "python",
      "name": "python3"
    },
    "language_info": {
      "codemirror_mode": {
        "name": "ipython",
        "version": 3
      },
      "file_extension": ".py",
      "mimetype": "text/x-python",
      "name": "python",
      "nbconvert_exporter": "python",
      "pygments_lexer": "ipython3",
      "version": "3.9.0"
    },
    "colab": {
      "provenance": []
    }
  },
  "nbformat": 4,
  "nbformat_minor": 0
}