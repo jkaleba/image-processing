{
  "cells": [
    {
      "cell_type": "markdown",
      "source": [
        "## Zadanie domowe: BBHE i DSIHE\n",
        "\n",
        "W klasycznym wyrównywaniu histogramu HE  po wykonaniu operacji jasność obrazu ulega zmianie.\n",
        "Dało się to zaobserwować podczas przeprowadzonych eksperymentów.\n",
        "Jeśli nie to należy uruchomić skrypt z sekcji A i zwrócić na to uwagę.\n",
        "Średnia jasność dąży do środkowego poziomu szarości.\n",
        "Jest to wada i dlatego klasyczne HE ma ograniczone zastosowanie.\n",
        "\n",
        "Powstało sporo metod, które eliminują to niekorzystne zjawisko.\n",
        "Najprostsze z nich polegają na dekompozycji obrazu wejściowego na dwa podobrazy (wg. pewnego kryterium).\n",
        "Następnie operacja HE wykonywana jest dla tych podobrazów.\n",
        "\n",
        "Dwie znane z literatury metody to:\n",
        "- Bi-Histogram Equalization\n",
        "- DSIHE - Dualistic Sub-Image Histogram Equalization\n",
        "\n",
        "W metodzie BBHE za kryterium podziału przyjmuje się średnią jasność w obrazie.\n",
        "W DSIHE obraz dzieli się na dwa podobrazy o takiej samej liczbie pikseli (jaśniejszych i ciemniejszych).\n",
        "\n",
        "W ramach zadania należy zaimplementować wybraną metodę: BBHE lub DSIHE (ew. obie).\n",
        "\n",
        "1. Wczytaj obraz *jet.bmp* i wylicz jego histogram.\n",
        "2. W kolejnym kroku należy wyznaczyć próg podziału obrazu na dwa podobrazy (*lm*).\n",
        "3. Dla BBHE wyznacz średnią jasność obrazu. Dla DSIHE można wykorzystać histogram skumulowany.\n",
        "Należy znaleźć poziom jasności który znajduje się \"w połowie\" histogramu skumulowanego.\n",
        "W tym celu warto stworzyć tablicę, zawierającą moduł histogramu skumulowanego pomniejszonego o połowę liczby pikseli.\n",
        "Następnie znaleźć minimum - `np.argmin`.\n",
        "4. Dalej należy podzielić histogram oryginalnego obrazu na dwa histogramy *H1* i *H2*.\n",
        "Dla każdego z nich wyliczyć histogram skumulowany ($C_1$ i $C_2$) i wykonać normalizację.\n",
        "Normalizacja polega na podzieleniu każdego histogramu przez jego największy element.\n",
        "5. Na podstawie histogramów skumulowanych należy stworzyć przekształcenie LUT.\n",
        "Należy tak przeskalować $C_1$ i $C_2$, aby uzyskać jednorodne przekształcenie.\n",
        "Tablicę $C_1$ wystarczy pomnożyć przez próg podziału.\n",
        "Tablicę $C_2$ należy przeskalować do przedziału: $<lm+1; 255>$, gdzie $lm$ jest progiem podziału.<br>\n",
        "$C_{1n} = (lm)*C1;$<br>\n",
        "$C_{2n} = lm+1 + (255-lm-1)*C2;$<br>\n",
        "Następnie dwie części tablicy przekodowań należy połączyć.\n",
        "6. Ostatecznie należy wykonać operację LUT i wyświetlić wynik wyrównywania histogramu.\n",
        "Porównaj wynik operacji BBHE lub DSIHE z klasycznym HE."
      ],
      "metadata": {
        "collapsed": false,
        "id": "4Fbe36eKPM0s"
      }
    },
    {
      "cell_type": "code",
      "execution_count": null,
      "outputs": [],
      "source": [
        "import cv2\n",
        "import os\n",
        "import requests\n",
        "from matplotlib import pyplot as plt\n",
        "import numpy as np\n",
        "\n",
        "url = 'https://raw.githubusercontent.com/vision-agh/poc_sw/master/03_Histogram/'\n",
        "\n",
        "fileName = 'jet.bmp'\n",
        "if not os.path.exists(fileName) :\n",
        "    r = requests.get(url + fileName, allow_redirects=True)\n",
        "    open(fileName, 'wb').write(r.content)"
      ],
      "metadata": {
        "pycharm": {
          "name": "#%% Zadanie domowe - BBHE\n"
        },
        "id": "c2Q0bFkqPM0v"
      }
    },
    {
      "cell_type": "code",
      "source": [
        "img = cv2.imread(fileName, cv2.IMREAD_GRAYSCALE)\n",
        "plt.imshow(img, cmap='gray')\n",
        "plt.title(\"Oryginalny obraz\")\n",
        "plt.show()"
      ],
      "metadata": {
        "id": "0OLCDa3BV4iD"
      },
      "execution_count": null,
      "outputs": []
    },
    {
      "cell_type": "code",
      "source": [
        "histogram = cv2.calcHist([img], [0], None, [256], [0, 256])\n",
        "\n",
        "# HBBe\n",
        "lm_bbhe = int(np.mean(img))\n",
        "print(\"BBHE - lm:\", lm_bbhe)\n",
        "\n",
        "# DSIHE\n",
        "cumulative_histogram = np.cumsum(histogram)\n",
        "total_pixels = cumulative_histogram[-1]\n",
        "half_pixels = total_pixels / 2\n",
        "\n",
        "half_diff = np.abs(cumulative_histogram - half_pixels)\n",
        "lm_dsihe = np.argmin(half_diff)\n",
        "print(\"DSIHE - lm:\", lm_dsihe)"
      ],
      "metadata": {
        "id": "u5zD_VM1WTFJ"
      },
      "execution_count": null,
      "outputs": []
    },
    {
      "cell_type": "code",
      "source": [
        "H1_bbhe = histogram[:lm_bbhe + 1]\n",
        "H2_bbhe = histogram[lm_bbhe + 1:]\n",
        "\n",
        "H1_dsihe = histogram[:lm_dsihe + 1]\n",
        "H2_dsihe = histogram[lm_dsihe + 1:]\n",
        "\n",
        "C1_bbhe = np.cumsum(H1_bbhe)\n",
        "C2_bbhe = np.cumsum(H2_bbhe)\n",
        "\n",
        "C1_dsihe = np.cumsum(H1_dsihe)\n",
        "C2_dsihe = np.cumsum(H2_dsihe)\n",
        "\n",
        "C1_bbhe = C1_bbhe / C1_bbhe.max()\n",
        "C2_bbhe = C2_bbhe / C2_bbhe.max()\n",
        "\n",
        "C1_dsihe = C1_dsihe / C1_dsihe.max()\n",
        "C2_dsihe = C2_dsihe / C2_dsihe.max()"
      ],
      "metadata": {
        "id": "i1Qq-QpKXqGh"
      },
      "execution_count": null,
      "outputs": []
    },
    {
      "cell_type": "code",
      "source": [
        "# BBHE\n",
        "C1n_bbhe = (lm_bbhe * C1_bbhe).astype(np.uint8)\n",
        "C2n_bbhe = (lm_bbhe + 1 + (255 - lm_bbhe - 1) * C2_bbhe).astype(np.uint8)\n",
        "LUT_bbhe = np.concatenate([C1n_bbhe, C2n_bbhe])\n",
        "\n",
        "# DSIHE\n",
        "C1n_dsihe = (lm_dsihe * C1_dsihe).astype(np.uint8)\n",
        "C2n_dsihe = (lm_dsihe + 1 + (255 - lm_dsihe - 1) * C2_dsihe).astype(np.uint8)\n",
        "LUT_dsihe = np.concatenate([C1n_dsihe, C2n_dsihe])"
      ],
      "metadata": {
        "id": "sKNqPb27VZ-9"
      },
      "execution_count": null,
      "outputs": []
    },
    {
      "cell_type": "code",
      "source": [
        "img_bbhe = cv2.LUT(img, LUT_bbhe)\n",
        "img_dsihe = cv2.LUT(img, LUT_dsihe)\n",
        "\n",
        "img_he = cv2.equalizeHist(img)\n",
        "\n",
        "plt.imshow(img_bbhe, cmap='gray')\n",
        "plt.title(\"BBHE\")\n",
        "plt.show()\n",
        "\n",
        "plt.imshow(img_dsihe, cmap='gray')\n",
        "plt.title(\"DSIHE\")\n",
        "plt.show()\n",
        "\n",
        "plt.imshow(img_he, cmap='gray')\n",
        "plt.title(\"HE\")\n",
        "plt.show()"
      ],
      "metadata": {
        "id": "6X-Q7DWLX1qe"
      },
      "execution_count": null,
      "outputs": []
    },
    {
      "cell_type": "code",
      "source": [
        "hist_bbhe = cv2.calcHist([img_bbhe], [0], None, [256], [0, 256])\n",
        "hist_dsihe = cv2.calcHist([img_dsihe], [0], None, [256], [0, 256])\n",
        "hist_he = cv2.calcHist([img_he], [0], None, [256], [0, 256])\n",
        "\n",
        "plt.plot(hist_bbhe, label=\"BBHE\")\n",
        "plt.plot(hist_dsihe, label=\"DSIHE\")\n",
        "plt.plot(hist_he, label=\"Klasyczne HE\")\n",
        "plt.legend()\n",
        "plt.title(\"Porównanie histogramów\")\n",
        "plt.show()"
      ],
      "metadata": {
        "id": "82z3sx4PX2zc"
      },
      "execution_count": null,
      "outputs": []
    }
  ],
  "metadata": {
    "kernelspec": {
      "display_name": "Python 3",
      "language": "python",
      "name": "python3"
    },
    "language_info": {
      "codemirror_mode": {
        "name": "ipython",
        "version": 2
      },
      "file_extension": ".py",
      "mimetype": "text/x-python",
      "name": "python",
      "nbconvert_exporter": "python",
      "pygments_lexer": "ipython2",
      "version": "2.7.6"
    },
    "colab": {
      "provenance": []
    }
  },
  "nbformat": 4,
  "nbformat_minor": 0
}